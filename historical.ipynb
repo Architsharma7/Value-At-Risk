{
 "cells": [
  {
   "cell_type": "code",
   "execution_count": 2,
   "metadata": {},
   "outputs": [
    {
     "name": "stderr",
     "output_type": "stream",
     "text": [
      "/Users/archit/Value-At-Risk/varenv/lib/python3.9/site-packages/urllib3/__init__.py:35: NotOpenSSLWarning: urllib3 v2 only supports OpenSSL 1.1.1+, currently the 'ssl' module is compiled with 'LibreSSL 2.8.3'. See: https://github.com/urllib3/urllib3/issues/3020\n",
      "  warnings.warn(\n"
     ]
    }
   ],
   "source": [
    "import numpy as np\n",
    "import matplotlib.pyplot as plt\n",
    "import pandas as pd\n",
    "from scipy.stats import norm\n",
    "import yfinance as yf\n",
    "import datetime as dt"
   ]
  },
  {
   "cell_type": "code",
   "execution_count": 3,
   "metadata": {},
   "outputs": [],
   "source": [
    "years = 15\n",
    "endDate = dt.datetime.now()\n",
    "startDate = endDate - dt.timedelta(days=years*365)"
   ]
  },
  {
   "cell_type": "code",
   "execution_count": 4,
   "metadata": {},
   "outputs": [],
   "source": [
    "tickers = ['SPY', 'BND', 'GLD', 'QQQ', 'VTI']"
   ]
  },
  {
   "cell_type": "code",
   "execution_count": 7,
   "metadata": {},
   "outputs": [
    {
     "name": "stderr",
     "output_type": "stream",
     "text": [
      "[*********************100%***********************]  5 of 5 completed\n"
     ]
    },
    {
     "data": {
      "text/html": [
       "<div>\n",
       "<style scoped>\n",
       "    .dataframe tbody tr th:only-of-type {\n",
       "        vertical-align: middle;\n",
       "    }\n",
       "\n",
       "    .dataframe tbody tr th {\n",
       "        vertical-align: top;\n",
       "    }\n",
       "\n",
       "    .dataframe thead th {\n",
       "        text-align: right;\n",
       "    }\n",
       "</style>\n",
       "<table border=\"1\" class=\"dataframe\">\n",
       "  <thead>\n",
       "    <tr style=\"text-align: right;\">\n",
       "      <th>Ticker</th>\n",
       "      <th>BND</th>\n",
       "      <th>GLD</th>\n",
       "      <th>QQQ</th>\n",
       "      <th>SPY</th>\n",
       "      <th>VTI</th>\n",
       "    </tr>\n",
       "    <tr>\n",
       "      <th>Date</th>\n",
       "      <th></th>\n",
       "      <th></th>\n",
       "      <th></th>\n",
       "      <th></th>\n",
       "      <th></th>\n",
       "    </tr>\n",
       "  </thead>\n",
       "  <tbody>\n",
       "    <tr>\n",
       "      <th>2009-08-31 00:00:00+00:00</th>\n",
       "      <td>51.408318</td>\n",
       "      <td>93.400002</td>\n",
       "      <td>34.978088</td>\n",
       "      <td>77.488144</td>\n",
       "      <td>39.281998</td>\n",
       "    </tr>\n",
       "    <tr>\n",
       "      <th>2009-09-01 00:00:00+00:00</th>\n",
       "      <td>51.467747</td>\n",
       "      <td>93.900002</td>\n",
       "      <td>34.322735</td>\n",
       "      <td>75.778938</td>\n",
       "      <td>38.415825</td>\n",
       "    </tr>\n",
       "    <tr>\n",
       "      <th>2009-09-02 00:00:00+00:00</th>\n",
       "      <td>51.578785</td>\n",
       "      <td>96.190002</td>\n",
       "      <td>34.296516</td>\n",
       "      <td>75.491547</td>\n",
       "      <td>38.256275</td>\n",
       "    </tr>\n",
       "    <tr>\n",
       "      <th>2009-09-03 00:00:00+00:00</th>\n",
       "      <td>51.487370</td>\n",
       "      <td>97.459999</td>\n",
       "      <td>34.523697</td>\n",
       "      <td>76.119270</td>\n",
       "      <td>38.605785</td>\n",
       "    </tr>\n",
       "    <tr>\n",
       "      <th>2009-09-04 00:00:00+00:00</th>\n",
       "      <td>51.435078</td>\n",
       "      <td>97.529999</td>\n",
       "      <td>35.266434</td>\n",
       "      <td>77.185631</td>\n",
       "      <td>39.099655</td>\n",
       "    </tr>\n",
       "    <tr>\n",
       "      <th>...</th>\n",
       "      <td>...</td>\n",
       "      <td>...</td>\n",
       "      <td>...</td>\n",
       "      <td>...</td>\n",
       "      <td>...</td>\n",
       "    </tr>\n",
       "    <tr>\n",
       "      <th>2024-08-20 00:00:00+00:00</th>\n",
       "      <td>74.559998</td>\n",
       "      <td>232.460007</td>\n",
       "      <td>480.260010</td>\n",
       "      <td>558.700012</td>\n",
       "      <td>275.079987</td>\n",
       "    </tr>\n",
       "    <tr>\n",
       "      <th>2024-08-21 00:00:00+00:00</th>\n",
       "      <td>74.720001</td>\n",
       "      <td>232.149994</td>\n",
       "      <td>482.500000</td>\n",
       "      <td>560.619995</td>\n",
       "      <td>276.459991</td>\n",
       "    </tr>\n",
       "    <tr>\n",
       "      <th>2024-08-22 00:00:00+00:00</th>\n",
       "      <td>74.419998</td>\n",
       "      <td>229.369995</td>\n",
       "      <td>474.850006</td>\n",
       "      <td>556.219971</td>\n",
       "      <td>274.119995</td>\n",
       "    </tr>\n",
       "    <tr>\n",
       "      <th>2024-08-23 00:00:00+00:00</th>\n",
       "      <td>74.750000</td>\n",
       "      <td>232.020004</td>\n",
       "      <td>480.000000</td>\n",
       "      <td>562.130005</td>\n",
       "      <td>277.589996</td>\n",
       "    </tr>\n",
       "    <tr>\n",
       "      <th>2024-08-26 00:00:00+00:00</th>\n",
       "      <td>74.669998</td>\n",
       "      <td>232.759995</td>\n",
       "      <td>475.339996</td>\n",
       "      <td>560.789978</td>\n",
       "      <td>276.890015</td>\n",
       "    </tr>\n",
       "  </tbody>\n",
       "</table>\n",
       "<p>3772 rows × 5 columns</p>\n",
       "</div>"
      ],
      "text/plain": [
       "Ticker                           BND         GLD         QQQ         SPY  \\\n",
       "Date                                                                       \n",
       "2009-08-31 00:00:00+00:00  51.408318   93.400002   34.978088   77.488144   \n",
       "2009-09-01 00:00:00+00:00  51.467747   93.900002   34.322735   75.778938   \n",
       "2009-09-02 00:00:00+00:00  51.578785   96.190002   34.296516   75.491547   \n",
       "2009-09-03 00:00:00+00:00  51.487370   97.459999   34.523697   76.119270   \n",
       "2009-09-04 00:00:00+00:00  51.435078   97.529999   35.266434   77.185631   \n",
       "...                              ...         ...         ...         ...   \n",
       "2024-08-20 00:00:00+00:00  74.559998  232.460007  480.260010  558.700012   \n",
       "2024-08-21 00:00:00+00:00  74.720001  232.149994  482.500000  560.619995   \n",
       "2024-08-22 00:00:00+00:00  74.419998  229.369995  474.850006  556.219971   \n",
       "2024-08-23 00:00:00+00:00  74.750000  232.020004  480.000000  562.130005   \n",
       "2024-08-26 00:00:00+00:00  74.669998  232.759995  475.339996  560.789978   \n",
       "\n",
       "Ticker                            VTI  \n",
       "Date                                   \n",
       "2009-08-31 00:00:00+00:00   39.281998  \n",
       "2009-09-01 00:00:00+00:00   38.415825  \n",
       "2009-09-02 00:00:00+00:00   38.256275  \n",
       "2009-09-03 00:00:00+00:00   38.605785  \n",
       "2009-09-04 00:00:00+00:00   39.099655  \n",
       "...                               ...  \n",
       "2024-08-20 00:00:00+00:00  275.079987  \n",
       "2024-08-21 00:00:00+00:00  276.459991  \n",
       "2024-08-22 00:00:00+00:00  274.119995  \n",
       "2024-08-23 00:00:00+00:00  277.589996  \n",
       "2024-08-26 00:00:00+00:00  276.890015  \n",
       "\n",
       "[3772 rows x 5 columns]"
      ]
     },
     "execution_count": 7,
     "metadata": {},
     "output_type": "execute_result"
    }
   ],
   "source": [
    "adj_close_df = pd.DataFrame()\n",
    "adj_close_df = yf.download(tickers, start=startDate, end=endDate)['Adj Close']\n",
    "adj_close_df"
   ]
  },
  {
   "cell_type": "code",
   "execution_count": 10,
   "metadata": {},
   "outputs": [
    {
     "data": {
      "text/html": [
       "<div>\n",
       "<style scoped>\n",
       "    .dataframe tbody tr th:only-of-type {\n",
       "        vertical-align: middle;\n",
       "    }\n",
       "\n",
       "    .dataframe tbody tr th {\n",
       "        vertical-align: top;\n",
       "    }\n",
       "\n",
       "    .dataframe thead th {\n",
       "        text-align: right;\n",
       "    }\n",
       "</style>\n",
       "<table border=\"1\" class=\"dataframe\">\n",
       "  <thead>\n",
       "    <tr style=\"text-align: right;\">\n",
       "      <th>Ticker</th>\n",
       "      <th>BND</th>\n",
       "      <th>GLD</th>\n",
       "      <th>QQQ</th>\n",
       "      <th>SPY</th>\n",
       "      <th>VTI</th>\n",
       "    </tr>\n",
       "    <tr>\n",
       "      <th>Date</th>\n",
       "      <th></th>\n",
       "      <th></th>\n",
       "      <th></th>\n",
       "      <th></th>\n",
       "      <th></th>\n",
       "    </tr>\n",
       "  </thead>\n",
       "  <tbody>\n",
       "    <tr>\n",
       "      <th>2009-09-01 00:00:00+00:00</th>\n",
       "      <td>0.001155</td>\n",
       "      <td>0.005339</td>\n",
       "      <td>-0.018914</td>\n",
       "      <td>-0.022305</td>\n",
       "      <td>-0.022297</td>\n",
       "    </tr>\n",
       "    <tr>\n",
       "      <th>2009-09-02 00:00:00+00:00</th>\n",
       "      <td>0.002155</td>\n",
       "      <td>0.024095</td>\n",
       "      <td>-0.000764</td>\n",
       "      <td>-0.003800</td>\n",
       "      <td>-0.004162</td>\n",
       "    </tr>\n",
       "    <tr>\n",
       "      <th>2009-09-03 00:00:00+00:00</th>\n",
       "      <td>-0.001774</td>\n",
       "      <td>0.013117</td>\n",
       "      <td>0.006602</td>\n",
       "      <td>0.008281</td>\n",
       "      <td>0.009095</td>\n",
       "    </tr>\n",
       "    <tr>\n",
       "      <th>2009-09-04 00:00:00+00:00</th>\n",
       "      <td>-0.001016</td>\n",
       "      <td>0.000718</td>\n",
       "      <td>0.021286</td>\n",
       "      <td>0.013912</td>\n",
       "      <td>0.012712</td>\n",
       "    </tr>\n",
       "    <tr>\n",
       "      <th>2009-09-08 00:00:00+00:00</th>\n",
       "      <td>-0.000508</td>\n",
       "      <td>-0.001026</td>\n",
       "      <td>0.009371</td>\n",
       "      <td>0.008585</td>\n",
       "      <td>0.010054</td>\n",
       "    </tr>\n",
       "    <tr>\n",
       "      <th>...</th>\n",
       "      <td>...</td>\n",
       "      <td>...</td>\n",
       "      <td>...</td>\n",
       "      <td>...</td>\n",
       "      <td>...</td>\n",
       "    </tr>\n",
       "    <tr>\n",
       "      <th>2024-08-20 00:00:00+00:00</th>\n",
       "      <td>0.002955</td>\n",
       "      <td>0.003663</td>\n",
       "      <td>-0.002101</td>\n",
       "      <td>-0.001627</td>\n",
       "      <td>-0.002433</td>\n",
       "    </tr>\n",
       "    <tr>\n",
       "      <th>2024-08-21 00:00:00+00:00</th>\n",
       "      <td>0.002144</td>\n",
       "      <td>-0.001335</td>\n",
       "      <td>0.004653</td>\n",
       "      <td>0.003431</td>\n",
       "      <td>0.005004</td>\n",
       "    </tr>\n",
       "    <tr>\n",
       "      <th>2024-08-22 00:00:00+00:00</th>\n",
       "      <td>-0.004023</td>\n",
       "      <td>-0.012047</td>\n",
       "      <td>-0.015982</td>\n",
       "      <td>-0.007879</td>\n",
       "      <td>-0.008500</td>\n",
       "    </tr>\n",
       "    <tr>\n",
       "      <th>2024-08-23 00:00:00+00:00</th>\n",
       "      <td>0.004425</td>\n",
       "      <td>0.011487</td>\n",
       "      <td>0.010787</td>\n",
       "      <td>0.010569</td>\n",
       "      <td>0.012579</td>\n",
       "    </tr>\n",
       "    <tr>\n",
       "      <th>2024-08-26 00:00:00+00:00</th>\n",
       "      <td>-0.001071</td>\n",
       "      <td>0.003184</td>\n",
       "      <td>-0.009756</td>\n",
       "      <td>-0.002387</td>\n",
       "      <td>-0.002525</td>\n",
       "    </tr>\n",
       "  </tbody>\n",
       "</table>\n",
       "<p>3771 rows × 5 columns</p>\n",
       "</div>"
      ],
      "text/plain": [
       "Ticker                          BND       GLD       QQQ       SPY       VTI\n",
       "Date                                                                       \n",
       "2009-09-01 00:00:00+00:00  0.001155  0.005339 -0.018914 -0.022305 -0.022297\n",
       "2009-09-02 00:00:00+00:00  0.002155  0.024095 -0.000764 -0.003800 -0.004162\n",
       "2009-09-03 00:00:00+00:00 -0.001774  0.013117  0.006602  0.008281  0.009095\n",
       "2009-09-04 00:00:00+00:00 -0.001016  0.000718  0.021286  0.013912  0.012712\n",
       "2009-09-08 00:00:00+00:00 -0.000508 -0.001026  0.009371  0.008585  0.010054\n",
       "...                             ...       ...       ...       ...       ...\n",
       "2024-08-20 00:00:00+00:00  0.002955  0.003663 -0.002101 -0.001627 -0.002433\n",
       "2024-08-21 00:00:00+00:00  0.002144 -0.001335  0.004653  0.003431  0.005004\n",
       "2024-08-22 00:00:00+00:00 -0.004023 -0.012047 -0.015982 -0.007879 -0.008500\n",
       "2024-08-23 00:00:00+00:00  0.004425  0.011487  0.010787  0.010569  0.012579\n",
       "2024-08-26 00:00:00+00:00 -0.001071  0.003184 -0.009756 -0.002387 -0.002525\n",
       "\n",
       "[3771 rows x 5 columns]"
      ]
     },
     "execution_count": 10,
     "metadata": {},
     "output_type": "execute_result"
    }
   ],
   "source": [
    "# daily log returns\n",
    "log_returns = np.log(adj_close_df / adj_close_df.shift(1))\n",
    "log_returns.dropna(inplace=True)\n",
    "log_returns"
   ]
  },
  {
   "cell_type": "code",
   "execution_count": 11,
   "metadata": {},
   "outputs": [
    {
     "data": {
      "text/plain": [
       "array([0.2, 0.2, 0.2, 0.2, 0.2])"
      ]
     },
     "execution_count": 11,
     "metadata": {},
     "output_type": "execute_result"
    }
   ],
   "source": [
    "# equally weighted portfolio\n",
    "portofolio_value = 1000000\n",
    "weights = np.array([1/len(tickers)]*len(tickers))\n",
    "weights"
   ]
  },
  {
   "cell_type": "code",
   "execution_count": 12,
   "metadata": {},
   "outputs": [
    {
     "data": {
      "text/plain": [
       "Date\n",
       "2009-09-01 00:00:00+00:00   -0.011404\n",
       "2009-09-02 00:00:00+00:00    0.003505\n",
       "2009-09-03 00:00:00+00:00    0.007064\n",
       "2009-09-04 00:00:00+00:00    0.009522\n",
       "2009-09-08 00:00:00+00:00    0.005295\n",
       "                               ...   \n",
       "2024-08-20 00:00:00+00:00    0.000091\n",
       "2024-08-21 00:00:00+00:00    0.002779\n",
       "2024-08-22 00:00:00+00:00   -0.009686\n",
       "2024-08-23 00:00:00+00:00    0.009969\n",
       "2024-08-26 00:00:00+00:00   -0.002511\n",
       "Length: 3771, dtype: float64"
      ]
     },
     "execution_count": 12,
     "metadata": {},
     "output_type": "execute_result"
    }
   ],
   "source": [
    "# historical portfolio returns\n",
    "historical_returns = (log_returns * weights).sum(axis=1)\n",
    "historical_returns"
   ]
  },
  {
   "cell_type": "code",
   "execution_count": 13,
   "metadata": {},
   "outputs": [
    {
     "data": {
      "text/plain": [
       "Date\n",
       "2009-09-08 00:00:00+00:00    0.013982\n",
       "2009-09-09 00:00:00+00:00    0.030227\n",
       "2009-09-10 00:00:00+00:00    0.034725\n",
       "2009-09-11 00:00:00+00:00    0.030266\n",
       "2009-09-14 00:00:00+00:00    0.021110\n",
       "                               ...   \n",
       "2024-08-20 00:00:00+00:00    0.024057\n",
       "2024-08-21 00:00:00+00:00    0.026835\n",
       "2024-08-22 00:00:00+00:00    0.005533\n",
       "2024-08-23 00:00:00+00:00    0.009462\n",
       "2024-08-26 00:00:00+00:00    0.000643\n",
       "Length: 3767, dtype: float64"
      ]
     },
     "execution_count": 13,
     "metadata": {},
     "output_type": "execute_result"
    }
   ],
   "source": [
    "# X-day historical returns\n",
    "days = 5\n",
    "range_returns = historical_returns.rolling(window=days).sum().dropna()\n",
    "range_returns"
   ]
  },
  {
   "cell_type": "code",
   "execution_count": 15,
   "metadata": {},
   "outputs": [
    {
     "data": {
      "text/plain": [
       "np.float64(24185.231982443493)"
      ]
     },
     "execution_count": 15,
     "metadata": {},
     "output_type": "execute_result"
    }
   ],
   "source": [
    "confidence_level = 0.95\n",
    "\n",
    "VaR = -np.percentile(range_returns, 100 - (confidence_level*100))*portofolio_value\n",
    "\n",
    "VaR"
   ]
  },
  {
   "cell_type": "code",
   "execution_count": 22,
   "metadata": {},
   "outputs": [
    {
     "data": {
      "image/png": "[encoded data removed]",
      "text/plain": [
       "<Figure size 640x480 with 1 Axes>"
      ]
     },
     "metadata": {},
     "output_type": "display_data"
    }
   ],
   "source": [
    "return_window = days\n",
    "range_returns = historical_returns.rolling(window=return_window).sum().dropna()\n",
    "range_returns_dollar = range_returns*portofolio_value\n",
    "plt.hist(range_returns_dollar.dropna(), bins=100, density=True)\n",
    "plt.xlabel(f' {days} Day Portfolio Return (Dollars)')\n",
    "plt.ylabel('Frequency')\n",
    "plt.title(f'{days} Day Portfolio Return Distribution')\n",
    "plt.axvline(-VaR, color='r', linestyle='dashed', linewidth=2, label=f'VaR at {confidence_level*100}% confidence level')\n",
    "plt.legend()\n",
    "plt.show()"
   ]
  }
 ],
 "metadata": {
  "kernelspec": {
   "display_name": "varenv",
   "language": "python",
   "name": "python3"
  },
  "language_info": {
   "codemirror_mode": {
    "name": "ipython",
    "version": 3
   },
   "file_extension": ".py",
   "mimetype": "text/x-python",
   "name": "python",
   "nbconvert_exporter": "python",
   "pygments_lexer": "ipython3",
   "version": "3.9.6"
  }
 },
 "nbformat": 4,
 "nbformat_minor": 2
}
